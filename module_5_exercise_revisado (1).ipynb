{
  "metadata": {
    "kernelspec": {
      "name": "python",
      "display_name": "Python (Pyodide)",
      "language": "python"
    },
    "language_info": {
      "codemirror_mode": {
        "name": "python",
        "version": 3
      },
      "file_extension": ".py",
      "mimetype": "text/x-python",
      "name": "python",
      "nbconvert_exporter": "python",
      "pygments_lexer": "ipython3",
      "version": "3.8"
    },
    "colab": {
      "collapsed_sections": [],
      "name": "module_5_exercise - revisado.ipynb",
      "provenance": [],
      "toc_visible": true
    }
  },
  "nbformat_minor": 4,
  "nbformat": 4,
  "cells": [
    {
      "cell_type": "markdown",
      "source": "<img src=\"https://raw.githubusercontent.com/andre-marcos-perez/ebac-course-utils/main/media/logo/newebac_logo_black_half.png\" alt=\"ebac-logo\">\n\n---\n\n# **Módulo** | Python: Programação Funcional\nCaderno de **Exercícios**<br> \nProfessor [André Perez](https://www.linkedin.com/in/andremarcosperez/)\n\n---",
      "metadata": {
        "id": "KJqp9AANOCtf"
      }
    },
    {
      "cell_type": "markdown",
      "source": "# **Tópicos**\n\n<ol type=\"1\">\n  <li>Função lambda;</li>\n  <li>Função map;</li>\n  <li>Função filter;</li>\n  <li>Função reduce.</li>\n</ol>",
      "metadata": {
        "id": "d9jDtUbDOE1-"
      }
    },
    {
      "cell_type": "markdown",
      "source": "---",
      "metadata": {
        "id": "SmoHgt-lwkpD"
      }
    },
    {
      "cell_type": "markdown",
      "source": "# **Exercícios**",
      "metadata": {
        "id": "GABI6OW8OfQ2"
      }
    },
    {
      "cell_type": "markdown",
      "source": "## 0\\. Preparação do ambiente ",
      "metadata": {
        "id": "muD1vxozykSC"
      }
    },
    {
      "cell_type": "markdown",
      "source": "Neste exercício vamos trabalhar com o arquivo csv com dados de crédito, definido abaixo. Execute cada uma das células de código para escrever os arquivos na sua máquina virtual.",
      "metadata": {
        "id": "ahrFfCuBxJKs"
      }
    },
    {
      "cell_type": "code",
      "source": "%%writefile credito.csv\nid_vendedor,valor_emprestimos,quantidade_emprestimos,data\n104271,448.0,1,20161208\n21476,826.7,3,20161208\n87440,313.6,3,20161208\n15980,-8008.0,6,20161208\n215906,2212.0,5,20161208\n33696,2771.3,2,20161208\n33893,2240.0,3,20161208\n214946,-4151.0,18,20161208\n123974,2021.95,2,20161208\n225870,4039.0,2,20161208",
      "metadata": {
        "id": "Kjt3HvFX7C3A",
        "trusted": true
      },
      "outputs": [
        {
          "name": "stdout",
          "text": "Writing credito.csv\n",
          "output_type": "stream"
        }
      ],
      "execution_count": 2
    },
    {
      "cell_type": "markdown",
      "source": "Vamos ler o conteúdo do arquivo em uma lista onde cada elemento é um dicionário representando as linhas do arquivo.",
      "metadata": {
        "id": "tnhM9v2X7yGS"
      }
    },
    {
      "cell_type": "code",
      "source": "emprestimos = []\nwith open(file='./credito.csv', mode='r', encoding='utf8') as fp:\n  fp.readline() # cabeçalho\n  linha = fp.readline()\n  while linha:\n    linha_emprestimo = {}\n    linha_elementos = linha.strip().split(sep=',')\n    linha_emprestimo['id_vendedor'] = linha_elementos[0]\n    linha_emprestimo['valor_emprestimos'] = linha_elementos[1]\n    linha_emprestimo['quantidade_emprestimos'] = linha_elementos[2]\n    linha_emprestimo['data'] = linha_elementos[3]\n    emprestimos.append(linha_emprestimo)\n    linha = fp.readline()",
      "metadata": {
        "id": "T00Y_WIh7uPU",
        "trusted": true
      },
      "outputs": [],
      "execution_count": 3
    },
    {
      "cell_type": "code",
      "source": "for emprestimo in emprestimos:\n  print(emprestimo)",
      "metadata": {
        "id": "Bp0ZgdTM84bw",
        "trusted": true
      },
      "outputs": [
        {
          "name": "stdout",
          "text": "{'id_vendedor': '104271', 'valor_emprestimos': '448.0', 'quantidade_emprestimos': '1', 'data': '20161208'}\n{'id_vendedor': '21476', 'valor_emprestimos': '826.7', 'quantidade_emprestimos': '3', 'data': '20161208'}\n{'id_vendedor': '87440', 'valor_emprestimos': '313.6', 'quantidade_emprestimos': '3', 'data': '20161208'}\n{'id_vendedor': '15980', 'valor_emprestimos': '-8008.0', 'quantidade_emprestimos': '6', 'data': '20161208'}\n{'id_vendedor': '215906', 'valor_emprestimos': '2212.0', 'quantidade_emprestimos': '5', 'data': '20161208'}\n{'id_vendedor': '33696', 'valor_emprestimos': '2771.3', 'quantidade_emprestimos': '2', 'data': '20161208'}\n{'id_vendedor': '33893', 'valor_emprestimos': '2240.0', 'quantidade_emprestimos': '3', 'data': '20161208'}\n{'id_vendedor': '214946', 'valor_emprestimos': '-4151.0', 'quantidade_emprestimos': '18', 'data': '20161208'}\n{'id_vendedor': '123974', 'valor_emprestimos': '2021.95', 'quantidade_emprestimos': '2', 'data': '20161208'}\n{'id_vendedor': '225870', 'valor_emprestimos': '4039.0', 'quantidade_emprestimos': '2', 'data': '20161208'}\n",
          "output_type": "stream"
        }
      ],
      "execution_count": 4
    },
    {
      "cell_type": "markdown",
      "source": "## 1\\. Função `map`\n\n",
      "metadata": {
        "id": "KI9zQRT2xa7m"
      }
    },
    {
      "cell_type": "markdown",
      "source": "Aplique a função map na lista de `emprestimos` para extrair os valores da chave `valor_emprestimos` na lista `valor_emprestimos_lista`. Faça também a conversão de `str` para `float`.",
      "metadata": {
        "id": "U63MjM7H7o1Y"
      }
    },
    {
      "cell_type": "code",
      "source": "valor_emprestimos_lista = list(map(lambda x:float(x['valor_emprestimos']),emprestimos))",
      "metadata": {
        "id": "-yAW4PJh9h7a",
        "trusted": true
      },
      "outputs": [],
      "execution_count": 6
    },
    {
      "cell_type": "code",
      "source": "print(valor_emprestimos_lista) # [448.0, 826.7, ..., 4039.0]",
      "metadata": {
        "id": "MQUvYdzJ9ndC",
        "trusted": true
      },
      "outputs": [
        {
          "name": "stdout",
          "text": "[448.0, 826.7, 313.6, -8008.0, 2212.0, 2771.3, 2240.0, -4151.0, 2021.95, 4039.0]\n",
          "output_type": "stream"
        }
      ],
      "execution_count": 7
    },
    {
      "cell_type": "markdown",
      "source": "---",
      "metadata": {
        "id": "zMN1Q3jdwoJm"
      }
    },
    {
      "cell_type": "markdown",
      "source": "## 2\\. Função `filter`\n\n",
      "metadata": {
        "id": "WKHvMtFX_JKH"
      }
    },
    {
      "cell_type": "markdown",
      "source": "Aplique a função filter na lista de `valor_emprestimos_lista` para filtrar apenas os valores maiores que zero (os valores negativas são erros na base de dados). Salve os valores na lista `valor_emprestimos_lista_filtrada`.",
      "metadata": {
        "id": "6V34N3Lf_gUM"
      }
    },
    {
      "cell_type": "code",
      "source": "valor_emprestimos_lista_filtrada = list(filter(lambda x:x >= 0,valor_emprestimos_lista))",
      "metadata": {
        "id": "3y7Vmm0yACuk",
        "trusted": true
      },
      "outputs": [],
      "execution_count": 8
    },
    {
      "cell_type": "code",
      "source": "print(valor_emprestimos_lista_filtrada) # [448.0, 826.7, ..., 4039.0]",
      "metadata": {
        "id": "socxMS6NADsM",
        "trusted": true
      },
      "outputs": [
        {
          "name": "stdout",
          "text": "[448.0, 826.7, 313.6, 2212.0, 2771.3, 2240.0, 2021.95, 4039.0]\n",
          "output_type": "stream"
        }
      ],
      "execution_count": 9
    },
    {
      "cell_type": "markdown",
      "source": "---",
      "metadata": {
        "id": "4yqCAVCo_Yp3"
      }
    },
    {
      "cell_type": "markdown",
      "source": "## 3\\. Função `reduce`\n\n",
      "metadata": {
        "id": "s4TzfRxC_Yp4"
      }
    },
    {
      "cell_type": "markdown",
      "source": "Com a nossa lista de valores de emprestimo pronta, vamos extrair algumas métricas.",
      "metadata": {
        "id": "RwV4V7gDAWfJ"
      }
    },
    {
      "cell_type": "markdown",
      "source": "### 3\\.1\\. Função `reduce` para extrair a **soma**",
      "metadata": {
        "id": "zjXA6H0LAf1_"
      }
    },
    {
      "cell_type": "markdown",
      "source": "Aplique a função reduce para somar os elementos da lista `valor_emprestimos_lista_filtrada` na variavel `soma_valor_emprestimos`.",
      "metadata": {
        "id": "u1kxPpkUArKw"
      }
    },
    {
      "cell_type": "code",
      "source": "from functools import reduce\n\nsoma_valor_emprestimos = reduce(lambda x,y:x+y,valor_emprestimos_lista_filtrada)",
      "metadata": {
        "id": "ptAFEVpMAr6_",
        "trusted": true
      },
      "outputs": [],
      "execution_count": 10
    },
    {
      "cell_type": "code",
      "source": "print(soma_valor_emprestimos) # 14872.550000000001",
      "metadata": {
        "id": "fPosL2LZBDxz",
        "trusted": true
      },
      "outputs": [
        {
          "name": "stdout",
          "text": "14872.550000000001\n",
          "output_type": "stream"
        }
      ],
      "execution_count": 11
    },
    {
      "cell_type": "markdown",
      "source": "### 3\\.2\\. Função `reduce` para extrair a **media aritimética**",
      "metadata": {
        "id": "v8h9TkYqBLPn"
      }
    },
    {
      "cell_type": "markdown",
      "source": "Aplique a função reduce para extrair a média aritimética (mais informações [aqui](https://pt.wikipedia.org/wiki/M%C3%A9dia#M%C3%A9dia_aritm%C3%A9tica)) dos elementos da lista `valor_emprestimos_lista_filtrada` na variavel `media_valor_emprestimos`.\n\nDica: Para calcular o tamanho da lista, isto é a quantidade de elementos, utilize a função len(), dentro do argumento da função coloque a lista `valor_emprestimos_lista_filtrada`.",
      "metadata": {
        "id": "VXsNI53NBLPo"
      }
    },
    {
      "cell_type": "code",
      "source": "from functools import reduce\nleitura = len(valor_emprestimos_lista_filtrada)\nmedia_valor_emprestimos = soma_valor_emprestimos/leitura",
      "metadata": {
        "id": "qbWv8a2GBLPp",
        "trusted": true
      },
      "outputs": [],
      "execution_count": 12
    },
    {
      "cell_type": "code",
      "source": "print(media_valor_emprestimos) # 1859.0687500000001",
      "metadata": {
        "id": "V-hh5hCKBLPr",
        "trusted": true
      },
      "outputs": [
        {
          "name": "stdout",
          "text": "1859.0687500000001\n",
          "output_type": "stream"
        }
      ],
      "execution_count": 13
    },
    {
      "cell_type": "markdown",
      "source": "### 3\\.3\\. (**Desafio**) Função `reduce` para extrair o **desvio padrão amostral**",
      "metadata": {
        "id": "rCwM3DcJBeyB"
      }
    },
    {
      "cell_type": "markdown",
      "source": "Aplique a função reduce para extrair a média aritimética (mais informações [aqui](https://pt.wikipedia.org/wiki/M%C3%A9dia#M%C3%A9dia_aritm%C3%A9tica)) dos elementos da lista `valor_emprestimos_lista_filtrada` na variavel `desvio_padrao_valor_emprestimos`.\n\n",
      "metadata": {
        "id": "jw3azoT_BeyC"
      }
    },
    {
      "cell_type": "code",
      "source": "from functools import reduce\n\n\n#Não entendi o desafio, e a mesma coisa do que eu acabei de fazer, vou deixar o enunciado de ambos.\n\n#Aplique a função reduce para extrair a média aritimética (mais informações aqui) dos elementos da lista \n#valor_emprestimos_lista_filtrada na variavel media_valor_emprestimos\n\n\n#Aplique a função reduce para extrair a média aritimética (mais informações aqui) dos elementos da lista \n#valor_emprestimos_lista_filtrada na variavel desvio_padrao_valor_emprestimos.\n\n\ndesvio_padrao_valor_emprestimos = ...",
      "metadata": {
        "id": "8HnNxp9mBeyD"
      },
      "outputs": [],
      "execution_count": null
    },
    {
      "cell_type": "code",
      "source": "print(desvio_padrao_valor_emprestimos) # 1271.997271149785",
      "metadata": {
        "id": "3dDC-KRYBeyE"
      },
      "outputs": [],
      "execution_count": null
    },
    {
      "cell_type": "markdown",
      "source": "---",
      "metadata": {
        "id": "ai2mZYnG_b_s"
      }
    }
  ]
}